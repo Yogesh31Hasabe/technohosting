{
  "nbformat": 4,
  "nbformat_minor": 0,
  "metadata": {
    "colab": {
      "name": "IMAGE CLASSIFICATION USING RESNET-50",
      "provenance": [],
      "authorship_tag": "ABX9TyO/adIV0XjyIR3wg+3p/nkB",
      "include_colab_link": true
    },
    "kernelspec": {
      "name": "python3",
      "display_name": "Python 3"
    },
    "accelerator": "GPU"
  },
  "cells": [
    {
      "cell_type": "markdown",
      "metadata": {
        "id": "view-in-github",
        "colab_type": "text"
      },
      "source": [
        "<a href=\"https://colab.research.google.com/github/Yogesh31Hasabe/technohosting/blob/master/IMAGE_CLASSIFICATION_USING_RESNET_50.ipynb\" target=\"_parent\"><img src=\"https://colab.research.google.com/assets/colab-badge.svg\" alt=\"Open In Colab\"/></a>"
      ]
    },
    {
      "cell_type": "markdown",
      "metadata": {
        "id": "J_-EDq9gGOu8",
        "colab_type": "text"
      },
      "source": [
        "#**IMAGE CLASSIFICATION** :: FOR SIGNS (0 TO 5) DATASET"
      ]
    },
    {
      "cell_type": "markdown",
      "metadata": {
        "id": "qAg4NF9KG80w",
        "colab_type": "text"
      },
      "source": [
        "##Inorder to study the architecture of ResNet, building Resnet-50 model from its residual blocks using KERAS to classify the SIGNS Dataset."
      ]
    },
    {
      "cell_type": "markdown",
      "metadata": {
        "id": "tlDTh836HaYi",
        "colab_type": "text"
      },
      "source": [
        "###Import liabraries"
      ]
    },
    {
      "cell_type": "code",
      "metadata": {
        "id": "Dcb1aOLfGLN8",
        "colab_type": "code",
        "colab": {}
      },
      "source": [
        "import numpy as np\n",
        "from keras import layers\n",
        "from keras.layers import Input, Add, Dense, Activation, ZeroPadding2D, BatchNormalization, Flatten, Conv2D, AveragePooling2D, MaxPooling2D, GlobalMaxPooling2D\n",
        "from keras.models import Model, load_model\n",
        "from keras.preprocessing import image\n",
        "from keras.utils import layer_utils\n",
        "from keras.utils.data_utils import get_file\n",
        "from keras.applications.imagenet_utils import preprocess_input\n",
        "import pydot\n",
        "from IPython.display import SVG\n",
        "from keras.utils.vis_utils import model_to_dot\n",
        "from keras.utils import plot_model\n",
        "from resnets_utils import *\n",
        "from keras.initializers import glorot_uniform\n",
        "import scipy.misc\n",
        "from matplotlib.pyplot import imshow\n",
        "%matplotlib inline\n",
        "\n",
        "import keras.backend as K\n",
        "K.set_image_data_format('channels_last')\n",
        "K.set_learning_phase(1)"
      ],
      "execution_count": 0,
      "outputs": []
    },
    {
      "cell_type": "markdown",
      "metadata": {
        "id": "6vgkp6hAJFUL",
        "colab_type": "text"
      },
      "source": [
        "####Clearing session in Keras"
      ]
    },
    {
      "cell_type": "code",
      "metadata": {
        "id": "ehRFWXaMI-F8",
        "colab_type": "code",
        "colab": {}
      },
      "source": [
        "K.clear_session()"
      ],
      "execution_count": 0,
      "outputs": []
    },
    {
      "cell_type": "markdown",
      "metadata": {
        "id": "ZrFUEalXJY4R",
        "colab_type": "text"
      },
      "source": [
        "###Creating Identity Block of Residual Network"
      ]
    },
    {
      "cell_type": "code",
      "metadata": {
        "id": "zkYx6aOAJhSH",
        "colab_type": "code",
        "colab": {}
      },
      "source": [
        "def identity_block(X, f, filters, stage, block):\n",
        "    \"\"\"\n",
        "    Implementation of the identity block as defined in Figure 4\n",
        "    \n",
        "    Arguments:\n",
        "    X -- input tensor of shape (m, n_H_prev, n_W_prev, n_C_prev)\n",
        "    f -- integer, specifying the shape of the middle CONV's window for the main path\n",
        "    filters -- python list of integers, defining the number of filters in the CONV layers of the main path\n",
        "    stage -- integer, used to name the layers, depending on their position in the network\n",
        "    block -- string/character, used to name the layers, depending on their position in the network\n",
        "    \n",
        "    Returns:\n",
        "    X -- output of the identity block, tensor of shape (n_H, n_W, n_C)\n",
        "    \"\"\"\n",
        "    \n",
        "    # defining name basis\n",
        "    conv_name_base = 'res' + str(stage) + block + '_branch'\n",
        "    bn_name_base = 'bn' + str(stage) + block + '_branch'\n",
        "    \n",
        "    # Retrieve Filters\n",
        "    F1, F2, F3 = filters\n",
        "    \n",
        "    # Save the input value. You'll need this later to add back to the main path. \n",
        "    X_shortcut = X\n",
        "    \n",
        "    # First component of main path\n",
        "    X = Conv2D(filters = F1, kernel_size = (1, 1), strides = (1,1), padding = 'valid', name = conv_name_base + '2a', kernel_initializer = glorot_uniform(seed=0))(X)\n",
        "    X = BatchNormalization(axis = 3, name = bn_name_base + '2a')(X)\n",
        "    X = Activation('relu')(X)\n",
        "    \n",
        "    ### START CODE HERE ###\n",
        "    \n",
        "    # Second component of main path (≈3 lines)\n",
        "    X = Conv2D(filters = F2, kernel_size = (f, f), strides = (1,1), padding = 'same', name = conv_name_base + '2b', kernel_initializer = glorot_uniform(seed=0))(X)\n",
        "    X = BatchNormalization(axis = 3, name = bn_name_base + '2b')(X)\n",
        "    X = Activation('relu')(X)\n",
        "\n",
        "    # Third component of main path (≈2 lines)\n",
        "    X = Conv2D(filters = F3, kernel_size = (1, 1), strides = (1,1), padding = 'valid', name = conv_name_base + '2c', kernel_initializer = glorot_uniform(seed=0))(X)\n",
        "    X = BatchNormalization(axis = 3, name = bn_name_base + '2c')(X)\n",
        "\n",
        "    # Final step: Add shortcut value to main path, and pass it through a RELU activation (≈2 lines)\n",
        "    X = Add()([X_shortcut,X])\n",
        "    X = Activation('relu')(X)\n",
        "    \n",
        "    ### END CODE HERE ###\n",
        "    \n",
        "    return X"
      ],
      "execution_count": 0,
      "outputs": []
    },
    {
      "cell_type": "markdown",
      "metadata": {
        "id": "xxdqW6u1LFAU",
        "colab_type": "text"
      },
      "source": [
        "###Creating Convolutional Block"
      ]
    },
    {
      "cell_type": "code",
      "metadata": {
        "id": "AfzItzVWLPRZ",
        "colab_type": "code",
        "colab": {}
      },
      "source": [
        "def convolutional_block(X, f, filters, stage, block, s = 2):\n",
        "    \"\"\"    \n",
        "    Arguments:\n",
        "    X -- input tensor of shape (m, n_H_prev, n_W_prev, n_C_prev)\n",
        "    f -- integer, specifying the shape of the middle CONV's window for the main path\n",
        "    filters -- python list of integers, defining the number of filters in the CONV layers of the main path\n",
        "    stage -- integer, used to name the layers, depending on their position in the network\n",
        "    block -- string/character, used to name the layers, depending on their position in the network\n",
        "    s -- Integer, specifying the stride to be used\n",
        "    \n",
        "    Returns:\n",
        "    X -- output of the convolutional block, tensor of shape (n_H, n_W, n_C)\n",
        "    \"\"\"\n",
        "    \n",
        "    # defining name basis\n",
        "    conv_name_base = 'res' + str(stage) + block + '_branch'\n",
        "    bn_name_base = 'bn' + str(stage) + block + '_branch'\n",
        "    \n",
        "    # Retrieve Filters\n",
        "    F1, F2, F3 =filters\n",
        "    \n",
        "    # Save the input value\n",
        "    X_shortcut = X\n",
        "\n",
        "\n",
        "    ##### MAIN PATH #####\n",
        "    # First component of main path \n",
        "    X = Conv2D(F1, (1, 1), strides = (s,s), name = conv_name_base + '2a', kernel_initializer = glorot_uniform(seed=0))(X)\n",
        "    X = BatchNormalization(axis = 3, name = bn_name_base + '2a')(X)\n",
        "    X = Activation('relu')(X)\n",
        "    \n",
        "    ### START CODE HERE ###\n",
        "\n",
        "    # Second component of main path (≈3 lines)\n",
        "    X = Conv2D(F2, (f, f), strides = (1,1), padding = 'same', name = conv_name_base + '2b', kernel_initializer = glorot_uniform(seed=0))(X)\n",
        "    X = BatchNormalization(axis = 3, name = bn_name_base + '2b')(X)\n",
        "    X = Activation('relu')(X)\n",
        "\n",
        "    # Third component of main path (≈2 lines)\n",
        "    X = Conv2D(F3, (1, 1), strides = (1,1), name = conv_name_base + '2c', kernel_initializer = glorot_uniform(seed=0))(X)\n",
        "    X = BatchNormalization(axis = 3, name = bn_name_base + '2c')(X)\n",
        "\n",
        "    ##### SHORTCUT PATH #### (≈2 lines)\n",
        "    X_shortcut = Conv2D(F3, (1, 1), strides = (s,s), name = conv_name_base + '1', kernel_initializer = glorot_uniform(seed=0))(X_shortcut)\n",
        "    X_shortcut = BatchNormalization(axis = 3, name = bn_name_base + '1')(X_shortcut)\n",
        "\n",
        "    # Final step: Add shortcut value to main path, and pass it through a RELU activation (≈2 lines)\n",
        "    X = Add()([X_shortcut,X])\n",
        "    X = Activation('relu')(X)\n",
        "    \n",
        "    return X\n"
      ],
      "execution_count": 0,
      "outputs": []
    },
    {
      "cell_type": "markdown",
      "metadata": {
        "id": "no4fDyt8L8S4",
        "colab_type": "text"
      },
      "source": [
        "###Building a ResNet-50 model in 5 stages. These 5 stages include 'IDENTITY' & 'CONV' residual blocks in various numbers to form a ResNet"
      ]
    },
    {
      "cell_type": "code",
      "metadata": {
        "id": "057Z90MRMf2q",
        "colab_type": "code",
        "colab": {}
      },
      "source": [
        "def ResNet50(input_shape = (64, 64, 3), classes = 6):\n",
        "    \"\"\"\n",
        "    Implementation of the popular ResNet50 the following architecture:\n",
        "    CONV2D -> BATCHNORM -> RELU -> MAXPOOL -> CONVBLOCK -> IDBLOCK*2 -> CONVBLOCK -> IDBLOCK*3\n",
        "    -> CONVBLOCK -> IDBLOCK*5 -> CONVBLOCK -> IDBLOCK*2 -> AVGPOOL -> TOPLAYER\n",
        "\n",
        "    Arguments:\n",
        "    input_shape -- shape of the images of the dataset\n",
        "    classes -- integer, number of classes\n",
        "\n",
        "    Returns:\n",
        "    model -- a Model() instance in Keras\n",
        "    \"\"\"\n",
        "    \n",
        "    # Define the input as a tensor with shape input_shape\n",
        "    X_input = Input(input_shape)\n",
        "\n",
        "    \n",
        "    # Zero-Padding\n",
        "    X = ZeroPadding2D((3, 3))(X_input)\n",
        "    \n",
        "    # Stage 1\n",
        "    X = Conv2D(64, (7, 7), strides = (2, 2), name = 'conv1', kernel_initializer = glorot_uniform(seed=0))(X)\n",
        "    X = BatchNormalization(axis = 3, name = 'bn_conv1')(X)\n",
        "    X = Activation('relu')(X)\n",
        "    X = MaxPooling2D((3, 3), strides=(2, 2))(X)\n",
        "\n",
        "    # Stage 2\n",
        "    X = convolutional_block(X, f = 3, filters = [64, 64, 256], stage = 2, block='a', s = 1)\n",
        "    X = identity_block(X, 3, [64, 64, 256], stage=2, block='b')\n",
        "    X = identity_block(X, 3, [64, 64, 256], stage=2, block='c')\n",
        "\n",
        "    ### START CODE HERE ###\n",
        "\n",
        "    # Stage 3 (≈4 lines)\n",
        "    X = convolutional_block(X, f = 3, filters = [128,128,512], stage = 3, block='a', s = 2)\n",
        "    X = identity_block(X, 3, [128,128,512], stage=3, block='b')\n",
        "    X = identity_block(X, 3, [128,128,512], stage=3, block='c')\n",
        "    X = identity_block(X, 3, [128,128,512], stage=3, block='d')\n",
        "\n",
        "    # Stage 4 (≈6 lines)\n",
        "    X = convolutional_block(X, f = 3, filters = [256, 256, 1024], stage = 4, block='a', s = 2)\n",
        "    X = identity_block(X, 3, [256, 256, 1024], stage=4, block='b')\n",
        "    X = identity_block(X, 3, [256, 256, 1024], stage=4, block='c')\n",
        "    X = identity_block(X, 3, [256, 256, 1024], stage=4, block='d')\n",
        "    X = identity_block(X, 3, [256, 256, 1024], stage=4, block='e')\n",
        "    X = identity_block(X, 3, [256, 256, 1024], stage=4, block='f')\n",
        "\n",
        "    # Stage 5 (≈3 lines)\n",
        "    X = convolutional_block(X, f = 3, filters = [512, 512, 2048], stage = 5, block='a', s = 2)\n",
        "    X = identity_block(X, 3, [512, 512, 2048], stage=5, block='b')\n",
        "    X = identity_block(X, 3, [512, 512, 2048], stage=5, block='c')\n",
        "\n",
        "    # AVGPOOL (≈1 line). Use \"X = AveragePooling2D(...)(X)\"\n",
        "    X = AveragePooling2D((2, 2), name = 'avg_pool')(X)\n",
        "    \n",
        "    ### END CODE HERE ###\n",
        "\n",
        "    # output layer\n",
        "    X = Flatten()(X)\n",
        "    X = Dense(classes, activation='softmax', name='fc' + str(classes), kernel_initializer = glorot_uniform(seed=0))(X)\n",
        "    \n",
        "    \n",
        "    # Create model\n",
        "    model = Model(inputs = X_input, outputs = X, name='ResNet50')\n",
        "\n",
        "    return model"
      ],
      "execution_count": 0,
      "outputs": []
    },
    {
      "cell_type": "markdown",
      "metadata": {
        "id": "KzBh-nS1NctZ",
        "colab_type": "text"
      },
      "source": [
        "###Create Model"
      ]
    },
    {
      "cell_type": "code",
      "metadata": {
        "id": "mV8Gelg9NjeX",
        "colab_type": "code",
        "colab": {}
      },
      "source": [
        "model = ResNet50(input_shape = (64, 64, 3), classes = 6)"
      ],
      "execution_count": 0,
      "outputs": []
    },
    {
      "cell_type": "markdown",
      "metadata": {
        "id": "DDRuW5pcNr6u",
        "colab_type": "text"
      },
      "source": [
        "###Compile Model\n"
      ]
    },
    {
      "cell_type": "code",
      "metadata": {
        "id": "ZfkFlvT-NutZ",
        "colab_type": "code",
        "colab": {}
      },
      "source": [
        "model.compile(optimizer='adam', loss='categorical_crossentropy', metrics=['accuracy'])"
      ],
      "execution_count": 0,
      "outputs": []
    },
    {
      "cell_type": "markdown",
      "metadata": {
        "id": "qk_SJ6qaN7Va",
        "colab_type": "text"
      },
      "source": [
        "###Data Preprocessing and Inputting"
      ]
    },
    {
      "cell_type": "code",
      "metadata": {
        "id": "gIoTGvLaOAwe",
        "colab_type": "code",
        "colab": {
          "base_uri": "https://localhost:8080/",
          "height": 118
        },
        "outputId": "eacb6ce0-a583-4974-f74b-52612830ba06"
      },
      "source": [
        "X_train_orig, Y_train_orig, X_test_orig, Y_test_orig, classes = load_dataset()\n",
        "\n",
        "# Normalize image vectors\n",
        "X_train = X_train_orig/255.\n",
        "X_test = X_test_orig/255.\n",
        "\n",
        "# Convert training and test labels to one hot matrices\n",
        "Y_train = convert_to_one_hot(Y_train_orig, 6).T\n",
        "Y_test = convert_to_one_hot(Y_test_orig, 6).T\n",
        "\n",
        "print (\"number of training examples = \" + str(X_train.shape[0]))\n",
        "print (\"number of test examples = \" + str(X_test.shape[0]))\n",
        "print (\"X_train shape: \" + str(X_train.shape))\n",
        "print (\"Y_train shape: \" + str(Y_train.shape))\n",
        "print (\"X_test shape: \" + str(X_test.shape))\n",
        "print (\"Y_test shape: \" + str(Y_test.shape))"
      ],
      "execution_count": 17,
      "outputs": [
        {
          "output_type": "stream",
          "text": [
            "number of training examples = 1080\n",
            "number of test examples = 120\n",
            "X_train shape: (1080, 64, 64, 3)\n",
            "Y_train shape: (1080, 6)\n",
            "X_test shape: (120, 64, 64, 3)\n",
            "Y_test shape: (120, 6)\n"
          ],
          "name": "stdout"
        }
      ]
    },
    {
      "cell_type": "markdown",
      "metadata": {
        "id": "c9NQogdQNz-S",
        "colab_type": "text"
      },
      "source": [
        "###Fit Model"
      ]
    },
    {
      "cell_type": "code",
      "metadata": {
        "id": "Kg-o2fJgN2Ut",
        "colab_type": "code",
        "colab": {
          "base_uri": "https://localhost:8080/",
          "height": 706
        },
        "outputId": "c7e99b98-1cee-46b9-dff3-30e62a5f0eaa"
      },
      "source": [
        "model.fit(X_train, Y_train, epochs = 20, batch_size = 32)"
      ],
      "execution_count": 18,
      "outputs": [
        {
          "output_type": "stream",
          "text": [
            "Epoch 1/20\n",
            "1080/1080 [==============================] - 34s 32ms/step - loss: 1.7536 - accuracy: 0.4694\n",
            "Epoch 2/20\n",
            "1080/1080 [==============================] - 11s 10ms/step - loss: 0.9049 - accuracy: 0.7139\n",
            "Epoch 3/20\n",
            "1080/1080 [==============================] - 11s 10ms/step - loss: 0.4176 - accuracy: 0.8630\n",
            "Epoch 4/20\n",
            "1080/1080 [==============================] - 11s 10ms/step - loss: 0.2628 - accuracy: 0.9074\n",
            "Epoch 5/20\n",
            "1080/1080 [==============================] - 11s 10ms/step - loss: 0.2342 - accuracy: 0.9204\n",
            "Epoch 6/20\n",
            "1080/1080 [==============================] - 11s 10ms/step - loss: 0.1240 - accuracy: 0.9546\n",
            "Epoch 7/20\n",
            "1080/1080 [==============================] - 11s 10ms/step - loss: 0.1260 - accuracy: 0.9620\n",
            "Epoch 8/20\n",
            "1080/1080 [==============================] - 11s 10ms/step - loss: 0.1704 - accuracy: 0.9491\n",
            "Epoch 9/20\n",
            "1080/1080 [==============================] - 11s 10ms/step - loss: 0.1369 - accuracy: 0.9509\n",
            "Epoch 10/20\n",
            "1080/1080 [==============================] - 11s 10ms/step - loss: 0.1286 - accuracy: 0.9546\n",
            "Epoch 11/20\n",
            "1080/1080 [==============================] - 11s 10ms/step - loss: 0.1829 - accuracy: 0.9444\n",
            "Epoch 12/20\n",
            "1080/1080 [==============================] - 11s 10ms/step - loss: 0.1019 - accuracy: 0.9704\n",
            "Epoch 13/20\n",
            "1080/1080 [==============================] - 11s 10ms/step - loss: 0.0980 - accuracy: 0.9750\n",
            "Epoch 14/20\n",
            "1080/1080 [==============================] - 11s 10ms/step - loss: 0.0338 - accuracy: 0.9889\n",
            "Epoch 15/20\n",
            "1080/1080 [==============================] - 11s 10ms/step - loss: 0.0938 - accuracy: 0.9676\n",
            "Epoch 16/20\n",
            "1080/1080 [==============================] - 11s 10ms/step - loss: 0.0876 - accuracy: 0.9759\n",
            "Epoch 17/20\n",
            "1080/1080 [==============================] - 11s 10ms/step - loss: 0.0401 - accuracy: 0.9880\n",
            "Epoch 18/20\n",
            "1080/1080 [==============================] - 11s 10ms/step - loss: 0.0738 - accuracy: 0.9806\n",
            "Epoch 19/20\n",
            "1080/1080 [==============================] - 11s 10ms/step - loss: 0.0631 - accuracy: 0.9824\n",
            "Epoch 20/20\n",
            "1080/1080 [==============================] - 11s 10ms/step - loss: 0.0313 - accuracy: 0.9907\n"
          ],
          "name": "stdout"
        },
        {
          "output_type": "execute_result",
          "data": {
            "text/plain": [
              "<keras.callbacks.callbacks.History at 0x7f92b813eb70>"
            ]
          },
          "metadata": {
            "tags": []
          },
          "execution_count": 18
        }
      ]
    },
    {
      "cell_type": "markdown",
      "metadata": {
        "id": "7f_DEZCmOGJj",
        "colab_type": "text"
      },
      "source": [
        "###Evaluate Model"
      ]
    },
    {
      "cell_type": "code",
      "metadata": {
        "id": "kADU7p4yOLx6",
        "colab_type": "code",
        "colab": {
          "base_uri": "https://localhost:8080/",
          "height": 67
        },
        "outputId": "b95f03c1-d25a-4b80-93a8-f8b65fdeb0be"
      },
      "source": [
        "preds = model.evaluate(X_test, Y_test)\n",
        "print (\"Loss = \" + str(preds[0] * 100))\n",
        "print (\"Test Accuracy = \" + str(preds[1] * 100))"
      ],
      "execution_count": 19,
      "outputs": [
        {
          "output_type": "stream",
          "text": [
            "120/120 [==============================] - 2s 14ms/step\n",
            "Loss = 18.436293800671898\n",
            "Test Accuracy = 93.33333373069763\n"
          ],
          "name": "stdout"
        }
      ]
    },
    {
      "cell_type": "markdown",
      "metadata": {
        "id": "EoJAWuJ6TpCa",
        "colab_type": "text"
      },
      "source": [
        "###Let's try it on our own images..."
      ]
    },
    {
      "cell_type": "code",
      "metadata": {
        "id": "ekJ3RQPQTvQV",
        "colab_type": "code",
        "colab": {
          "base_uri": "https://localhost:8080/",
          "height": 353
        },
        "outputId": "3e165c19-8434-46fc-fb8e-a59ecf042bdc"
      },
      "source": [
        "import imageio\n",
        "img_path = 'images/my_image.jpg'\n",
        "img = image.load_img(img_path, target_size=(64, 64))\n",
        "x = image.img_to_array(img)\n",
        "x = np.expand_dims(x, axis=0)\n",
        "x = x/255.0\n",
        "print('Input image shape:', x.shape)\n",
        "my_image = imageio.imread(img_path)\n",
        "imshow(my_image)\n",
        "print(\"class prediction vector [p(0), p(1), p(2), p(3), p(4), p(5)] = \")\n",
        "y = model.predict(x)\n",
        "print(y)\n",
        "print(\"The SIGN is of the Number: \", np.argmax(y))"
      ],
      "execution_count": 26,
      "outputs": [
        {
          "output_type": "stream",
          "text": [
            "Input image shape: (1, 64, 64, 3)\n",
            "class prediction vector [p(0), p(1), p(2), p(3), p(4), p(5)] = \n",
            "[[5.2056407e-07 7.1189260e-07 9.9999857e-01 1.1673422e-09 2.1833027e-07\n",
            "  1.3527621e-09]]\n",
            "The SIGN is of the Number:  2\n"
          ],
          "name": "stdout"
        },
        {
          "output_type": "display_data",
          "data": {
            "image/png": "[encoded data removed]",
            "text/plain": [
              "<Figure size 432x288 with 1 Axes>"
            ]
          },
          "metadata": {
            "tags": [],
            "needs_background": "light"
          }
        }
      ]
    },
    {
      "cell_type": "markdown",
      "metadata": {
        "id": "6Ox8JGnwWeD-",
        "colab_type": "text"
      },
      "source": [
        "###Importing a pre-trained ResNet Model to see the results..\n",
        "Upload ResNet50.h5 file to use the pre-trained model."
      ]
    },
    {
      "cell_type": "code",
      "metadata": {
        "id": "seZd3-mXU-zA",
        "colab_type": "code",
        "colab": {}
      },
      "source": [
        "model = load_model('ResNet50.h5') "
      ],
      "execution_count": 0,
      "outputs": []
    },
    {
      "cell_type": "code",
      "metadata": {
        "id": "KojXj-DKXD4j",
        "colab_type": "code",
        "colab": {}
      },
      "source": [
        "preds = model.evaluate(X_test, Y_test)\n",
        "print (\"Loss = \" + str(preds[0]))\n",
        "print (\"Test Accuracy = \" + str(preds[1]))"
      ],
      "execution_count": 0,
      "outputs": []
    },
    {
      "cell_type": "markdown",
      "metadata": {
        "id": "vjJhE0FlXGnj",
        "colab_type": "text"
      },
      "source": [
        "###Making predictions on loaded model"
      ]
    },
    {
      "cell_type": "code",
      "metadata": {
        "id": "ri3g6Dt0XMle",
        "colab_type": "code",
        "colab": {}
      },
      "source": [
        "import imageio\n",
        "img_path = 'images/siafi.jpeg'\n",
        "img = image.load_img(img_path, target_size=(64, 64))\n",
        "x = image.img_to_array(img)\n",
        "x = np.expand_dims(x, axis=0)\n",
        "x = x/255.0\n",
        "print('Input image shape:', x.shape)\n",
        "my_image = imageio.imread(img_path)\n",
        "imshow(my_image)\n",
        "print(\"class prediction vector [p(0), p(1), p(2), p(3), p(4), p(5)] = \")\n",
        "y = model.predict(x)\n",
        "print(y)\n",
        "print(\"The SIGN is of the Number: \", np.argmax(y))"
      ],
      "execution_count": 0,
      "outputs": []
    }
  ]
}